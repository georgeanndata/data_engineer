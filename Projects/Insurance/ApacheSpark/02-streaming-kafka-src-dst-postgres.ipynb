{
 "cells": [
  {
   "cell_type": "code",
   "execution_count": 1,
   "metadata": {},
   "outputs": [],
   "source": [
    "from pyspark.sql import SparkSession\n",
    "\n",
    "# you need these two to transform the json strings to dataframes\n",
    "from pyspark.sql.types import MapType,StringType\n",
    "from pyspark.sql.functions import from_json, current_timestamp\n",
    "\n",
    "\n",
    "# Spark session & context\n",
    "spark = (SparkSession\n",
    "         .builder\n",
    "         .master('local')\n",
    "         .appName('kafka-postgres-streaming')     \n",
    "         # Add kafka package and postgres package. Make sure to to this as one string!\n",
    "         # Versions need to match the Spark version (trial & error)\n",
    "         .config(\"spark.jars.packages\", \"org.apache.spark:spark-sql-kafka-0-10_2.11:2.4.5,org.postgresql:postgresql:42.3.1\")\n",
    "         # Postgres config including the username and password from compose file\n",
    "         .config(\"spark.postgres.input.uri\",\"jdbc:postgresql://postgres_ins:5432/postgresdb.autoclaims_docs?user=postgres&password=data\")\n",
    "         .config(\"spark.postgres.output.uri\",\"jdbc:postgresql://postgres_ins:5432/postgresdb.autoclaims_docs?user=postgres&password=data\")\n",
    "         .config('spark.sql.session.timeZone', \"America/New_York\")\n",
    "         .getOrCreate())\n",
    "sc = spark.sparkContext\n"
   ]
  },
  {
   "cell_type": "code",
   "execution_count": 2,
   "metadata": {},
   "outputs": [],
   "source": [
    "# Read the message from the kafka stream\n",
    "df = spark \\\n",
    "  .readStream \\\n",
    "  .format(\"kafka\") \\\n",
    "  .option(\"kafka.bootstrap.servers\", \"kafka:9092\") \\\n",
    "  .option(\"subscribe\", \"auto-claims-ingestion-topic\") \\\n",
    "  .load()\n",
    "\n",
    "# convert the binary values to string\n",
    "df1 = df.selectExpr(\"CAST(key AS STRING)\", \"CAST(value AS STRING)\")"
   ]
  },
  {
   "cell_type": "code",
   "execution_count": 3,
   "metadata": {},
   "outputs": [],
   "source": [
    "#Create a temporary view for SparkSQL\n",
    "df1.createOrReplaceTempView(\"message\")"
   ]
  },
  {
   "cell_type": "code",
   "execution_count": 4,
   "metadata": {},
   "outputs": [
    {
     "data": {
      "text/plain": [
       "<pyspark.sql.streaming.StreamingQuery at 0x7f3890b98490>"
      ]
     },
     "execution_count": 4,
     "metadata": {},
     "output_type": "execute_result"
    }
   ],
   "source": [
    "# Write out the message to the console of the environment\n",
    "res = spark.sql(\"SELECT * from message\")\n",
    "res.writeStream.format(\"console\") \\\n",
    "            .outputMode(\"append\") \\\n",
    "            .start()"
   ]
  },
  {
   "cell_type": "code",
   "execution_count": 5,
   "metadata": {},
   "outputs": [],
   "source": [
    "# Write the unvonverted dataframe (no strings)\n",
    "# message back into Kafka in another topic#\n",
    "# listen to it with a local consumer\n",
    "ds = df \\\n",
    "  .writeStream \\\n",
    "  .format(\"kafka\") \\\n",
    "  .option(\"kafka.bootstrap.servers\", \"kafka:9092\") \\\n",
    "  .option(\"topic\", \"spark-output\") \\\n",
    "  .option(\"checkpointLocation\", \"/tmp\") \\\n",
    "  .start() "
   ]
  },
  {
   "cell_type": "code",
   "execution_count": 6,
   "metadata": {},
   "outputs": [],
   "source": [
    "from pyspark.sql.functions import from_json, current_timestamp\n",
    "\n",
    "# Write the message into Postgres\n",
    "def foreach_batch_function(df, epoch_id):\n",
    "    # Transform and write batchDF in this foreach\n",
    "    # writes the dataframe with complete kafka message into postgres\n",
    " \n",
    "    db_target_url = \"jdbc:postgresql://postgres_ins:5432/postgresdb\"#public.autoclaimsdocs?user=postgres&password=data\"#\"jdbc:postgresql:postgresdb\"\n",
    "    table = \"autoclaims_docs\" #public.autoclaims_docs\n",
    "    db_target_properties =  {\"driver\": 'org.postgresql.Driver',\"user\":\"postgres\", \"password\":\"data\"}\n",
    "\n",
    "    \n",
    "    #Transform the values of all rows in column value and create a dataframe out of it (will also only have one row)\n",
    "    df2=df.withColumn(\"value\",from_json(df.value,MapType(StringType(),StringType())))  \n",
    "   \n",
    "    # Transform the dataframe so that it will have individual columns \n",
    "    df3 = df2.select([\"value.months_as_customer\",\"value.age\",\"value.policy_number\",\"value.policy_bind_date\", \\\n",
    "    \"value.policy_state\",\"value.policy_csl\",\"value.policy_deductable\",\"value.policy_annual_premium\", \\\n",
    "    \"value.umbrella_limit\",\"value.insured_zip\",\"value.insured_sex\",\"value.insured_education_level\", \\\n",
    "    \"value.insured_occupation\",\"value.insured_hobbies\",\"value.insured_relationship\",\"value.capital_gains\", \\\n",
    "    \"value.capital_loss\",\"value.incident_date\",\"value.incident_type\",\"value.collision_type\",  \\\n",
    "    \"value.incident_severity\",\"value.authorities_contacted\",\"value.incident_state\",\"value.incident_city\",  \\\n",
    "    \"value.incident_location\",\"value.incident_hour_of_the_day\",\"value.number_of_vehicles_involved\",\"value.property_damage\", \\\n",
    "    \"value.bodily_injuries\",\"value.witnesses\",\"value.police_report_available\",\"value.total_claim_amount\", \\\n",
    "    \"value.injury_claim\",\"value.property_claim\", \"value. vehicle_claim\",\"value.auto_make\", \"value.auto_model\", \\\n",
    "    \"value.auto_year\",\"value.fraud_reported\",\"value.c39\"])\n",
    "    \n",
    "    ## add load datetime column to df3\n",
    "    df3 = df3.withColumn(\"load_datetimestamp\", current_timestamp())##convert in Postgres\n",
    "    \n",
    "    # Send the dataframe into Postgres which will create a JSON document out of it\n",
    "    db_target_url = \"jdbc:postgresql://postgres_ins:5432/postgresdb\"\n",
    "    table = \"autoclaims_docs\" #public.autoclaims_docs\n",
    "    db_target_properties =  {\"driver\": 'org.postgresql.Driver',\"user\":\"postgres\", \"password\":\"data\"}\n",
    "    \n",
    "    df3.write.jdbc(url=db_target_url, table=table, properties=db_target_properties, mode=\"append\")#.mode(\"append\")\n",
    "    #df3.show()\n",
    "    pass"
   ]
  },
  {
   "cell_type": "code",
   "execution_count": null,
   "metadata": {},
   "outputs": [],
   "source": [
    "# Start the Postgres stream and wait for termination\n",
    "#df1.writeStream.foreachBatch(foreach_batch_function).start().awaitTermination()\n",
    "df1.writeStream.foreachBatch(foreach_batch_function).start().awaitTermination()"
   ]
  },
  {
   "cell_type": "code",
   "execution_count": null,
   "metadata": {},
   "outputs": [],
   "source": []
  }
 ],
 "metadata": {
  "kernelspec": {
   "display_name": "Python 3",
   "language": "python",
   "name": "python3"
  },
  "language_info": {
   "codemirror_mode": {
    "name": "ipython",
    "version": 3
   },
   "file_extension": ".py",
   "mimetype": "text/x-python",
   "name": "python",
   "nbconvert_exporter": "python",
   "pygments_lexer": "ipython3",
   "version": "3.7.6"
  }
 },
 "nbformat": 4,
 "nbformat_minor": 4
}
